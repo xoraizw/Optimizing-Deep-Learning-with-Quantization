{
 "cells": [
  {
   "cell_type": "code",
   "execution_count": 1,
   "metadata": {
    "id": "j_y8GnrXLbhf"
   },
   "outputs": [],
   "source": [
    "# from google.colab import drive\n",
    "# drive.mount('/content/drive')\n",
    "import torch\n",
    "import warnings\n",
    "warnings.filterwarnings(\"ignore\")\n",
    "import pandas as pd\n",
    "from tqdm import tqdm"
   ]
  },
  {
   "cell_type": "code",
   "execution_count": 2,
   "metadata": {
    "colab": {
     "base_uri": "https://localhost:8080/"
    },
    "id": "PRBoIxZRKlFf",
    "outputId": "f59eacfe-181e-4cc9-e1ad-e555d45cbea1"
   },
   "outputs": [
    {
     "name": "stdout",
     "output_type": "stream",
     "text": [
      "Downloading https://www.cs.toronto.edu/~kriz/cifar-100-python.tar.gz to data/cifar-100-python.tar.gz\n"
     ]
    },
    {
     "name": "stderr",
     "output_type": "stream",
     "text": [
      "100%|██████████| 169M/169M [00:16<00:00, 10.1MB/s]\n"
     ]
    },
    {
     "name": "stdout",
     "output_type": "stream",
     "text": [
      "Extracting data/cifar-100-python.tar.gz to data\n",
      "Files already downloaded and verified\n"
     ]
    }
   ],
   "source": [
    "import torch\n",
    "from torchvision.datasets import CIFAR100\n",
    "from torchvision.transforms import transforms\n",
    "from torch.utils.data import DataLoader, random_split\n",
    "\n",
    "mean = (0.5071, 0.4865, 0.4409)\n",
    "std  = (0.2673, 0.2564, 0.2762)\n",
    "\n",
    "BATCH_SIZE = 64\n",
    "\n",
    "transform_train = transforms.Compose([\n",
    "    transforms.RandomHorizontalFlip(),\n",
    "    transforms.ToTensor(),\n",
    "    transforms.Normalize(mean, std)\n",
    "])\n",
    "\n",
    "transform_test = transforms.Compose([\n",
    "    transforms.ToTensor(),\n",
    "    transforms.Normalize(mean, std)\n",
    "])\n",
    "\n",
    "train_data = CIFAR100(root='data', train=True, transform=transform_train, download=True)\n",
    "test_data = CIFAR100(root='data', train=False, transform=transform_test, download=True)\n",
    "\n",
    "train_loader = DataLoader(train_data, batch_size=BATCH_SIZE, shuffle=True)\n",
    "test_loader = DataLoader(test_data, batch_size=BATCH_SIZE, shuffle=False)\n",
    "\n",
    "device = torch.device(\"cuda\" if torch.cuda.is_available() else \"cpu\")"
   ]
  },
  {
   "cell_type": "markdown",
   "metadata": {
    "id": "MeeGKUTT5KS6"
   },
   "source": [
    "### Importing VGG-11 pre-trained model on CIFAR100."
   ]
  },
  {
   "cell_type": "markdown",
   "metadata": {
    "id": "D4xVLPbwZVHA"
   },
   "source": [
    "## PQT"
   ]
  },
  {
   "cell_type": "code",
   "execution_count": 3,
   "metadata": {
    "colab": {
     "base_uri": "https://localhost:8080/"
    },
    "id": "v3tIRkirEAbb",
    "outputId": "286faa38-e9f9-411b-810b-03f034f88b3f"
   },
   "outputs": [
    {
     "name": "stdout",
     "output_type": "stream",
     "text": [
      "Collecting torchao\n",
      "  Downloading torchao-0.6.1-cp310-cp310-manylinux_2_17_x86_64.manylinux2014_x86_64.whl.metadata (13 kB)\n",
      "Downloading torchao-0.6.1-cp310-cp310-manylinux_2_17_x86_64.manylinux2014_x86_64.whl (2.2 MB)\n",
      "\u001b[?25l   \u001b[90m━━━━━━━━━━━━━━━━━━━━━━━━━━━━━━━━━━━━━━━━\u001b[0m \u001b[32m0.0/2.2 MB\u001b[0m \u001b[31m?\u001b[0m eta \u001b[36m-:--:--\u001b[0m\r\u001b[2K   \u001b[91m━\u001b[0m\u001b[90m╺\u001b[0m\u001b[90m━━━━━━━━━━━━━━━━━━━━━━━━━━━━━━━━━━━━━━\u001b[0m \u001b[32m0.1/2.2 MB\u001b[0m \u001b[31m2.6 MB/s\u001b[0m eta \u001b[36m0:00:01\u001b[0m\r\u001b[2K   \u001b[91m━━━━━━━━━━\u001b[0m\u001b[91m╸\u001b[0m\u001b[90m━━━━━━━━━━━━━━━━━━━━━━━━━━━━━\u001b[0m \u001b[32m0.6/2.2 MB\u001b[0m \u001b[31m8.7 MB/s\u001b[0m eta \u001b[36m0:00:01\u001b[0m\r\u001b[2K   \u001b[91m━━━━━━━━━━━━━━━━━━━━━━━━━━━━━━━━━━━━━━━\u001b[0m\u001b[91m╸\u001b[0m \u001b[32m2.2/2.2 MB\u001b[0m \u001b[31m23.5 MB/s\u001b[0m eta \u001b[36m0:00:01\u001b[0m\r\u001b[2K   \u001b[90m━━━━━━━━━━━━━━━━━━━━━━━━━━━━━━━━━━━━━━━━\u001b[0m \u001b[32m2.2/2.2 MB\u001b[0m \u001b[31m20.5 MB/s\u001b[0m eta \u001b[36m0:00:00\u001b[0m\n",
      "\u001b[?25hInstalling collected packages: torchao\n",
      "Successfully installed torchao-0.6.1\n"
     ]
    }
   ],
   "source": [
    "!pip install torchao"
   ]
  },
  {
   "cell_type": "code",
   "execution_count": 34,
   "metadata": {
    "id": "CTkjhgiajov1"
   },
   "outputs": [],
   "source": [
    "from torchao.quantization import (\n",
    "    quantize_,\n",
    "    int4_weight_only,\n",
    "    int8_weight_only,\n",
    "\n",
    "    # Compute bound models\n",
    "    int8_dynamic_activation_int8_semi_sparse_weight,\n",
    "    int8_dynamic_activation_int8_weight,\n",
    "\n",
    "    # Device capability 8.9+\n",
    "    float8_weight_only,\n",
    "    float8_dynamic_activation_float8_weight,\n",
    ")"
   ]
  },
  {
   "cell_type": "code",
   "execution_count": 25,
   "metadata": {
    "colab": {
     "base_uri": "https://localhost:8080/"
    },
    "id": "8K__SI55Z314",
    "outputId": "b12a4143-6af7-4766-b0bd-a4b6bfdd7772"
   },
   "outputs": [
    {
     "name": "stderr",
     "output_type": "stream",
     "text": [
      "Using cache found in /root/.cache/torch/hub/chenyaofo_pytorch-cifar-models_master\n"
     ]
    }
   ],
   "source": [
    "import copy\n",
    "device = torch.device(\"cuda\" if torch.cuda.is_available() else \"cpu\")\n",
    "model = torch.hub.load(\"chenyaofo/pytorch-cifar-models\", \"cifar100_vgg11_bn\", pretrained=True)\n",
    "model = model.to(device)"
   ]
  },
  {
   "cell_type": "code",
   "execution_count": null,
   "metadata": {
    "id": "Tv2ZltopKQp-"
   },
   "outputs": [],
   "source": [
    "import torch\n",
    "\n",
    "def evaluate_model(model, test_loader, device):\n",
    "    loss_func = nn.CrossEntropyLoss()\n",
    "    model.to(device)\n",
    "    model.eval()  # Set the model to evaluation mode\n",
    "\n",
    "    total_loss = 0.0\n",
    "    correct_predictions = 0\n",
    "    total_samples = 0\n",
    "\n",
    "    with torch.no_grad():  # Disable gradient calculation for evaluation\n",
    "        for inputs, labels in test_loader:\n",
    "            inputs, labels = inputs.to(device), labels.to(device)\n",
    "\n",
    "            # Forward pass\n",
    "            outputs = model(inputs)\n",
    "            loss = loss_func(outputs, labels)\n",
    "            total_loss += loss.item() * inputs.size(0)\n",
    "\n",
    "            # Calculate accuracy\n",
    "            _, predicted = torch.max(outputs, 1)\n",
    "            correct_predictions += (predicted == labels).sum().item()\n",
    "            total_samples += labels.size(0)\n",
    "\n",
    "    avg_loss = total_loss / total_samples\n",
    "    accuracy = correct_predictions / total_samples\n",
    "\n",
    "    return {\n",
    "        'test_loss': avg_loss,\n",
    "        'test_accuracy': accuracy\n",
    "    }\n",
    "def evaluate_model_16(model, test_loader, device):\n",
    "    model.eval()  # Set the model to evaluation mode\n",
    "    total_loss = 0.0\n",
    "    correct_predictions = 0\n",
    "    total_samples = 0\n",
    "\n",
    "    with torch.no_grad():  # Disable gradient calculation for evaluation\n",
    "        for inputs, labels in test_loader:\n",
    "            inputs, labels = inputs.to(device), labels.to(device)\n",
    "\n",
    "            # Forward pass with autocast for FP16\n",
    "            with autocast():\n",
    "                outputs = model(inputs.half())  # Ensure inputs are in half precision\n",
    "                loss = nn.CrossEntropyLoss()(outputs, labels)\n",
    "\n",
    "            total_loss += loss.item() * inputs.size(0)\n",
    "\n",
    "            # Calculate accuracy\n",
    "            _, predicted = torch.max(outputs, 1)\n",
    "            correct_predictions += (predicted == labels).sum().item()\n",
    "            total_samples += labels.size(0)\n",
    "\n",
    "    avg_loss = total_loss / total_samples\n",
    "    accuracy = correct_predictions / total_samples\n",
    "\n",
    "    return {\n",
    "        'test_loss': avg_loss,\n",
    "        'test_accuracy': accuracy\n",
    "    }\n",
    "def evaluate_model_bf16(model, test_loader, device):\n",
    "    loss_func = nn.CrossEntropyLoss()\n",
    "    model.to(device)\n",
    "    model.eval()  # Set the model to evaluation mode\n",
    "\n",
    "    total_loss = 0.0\n",
    "    correct_predictions = 0\n",
    "    total_samples = 0\n",
    "\n",
    "    with torch.no_grad():  # Disable gradient calculation for evaluation\n",
    "        for inputs, labels in test_loader:\n",
    "            inputs, labels = inputs.to(device), labels.to(device)\n",
    "\n",
    "            # Forward pass\n",
    "            outputs = model(inputs.bfloat16())\n",
    "            loss = loss_func(outputs, labels)\n",
    "            total_loss += loss.item() * inputs.size(0)\n",
    "\n",
    "            # Calculate accuracy\n",
    "            _, predicted = torch.max(outputs, 1)\n",
    "            correct_predictions += (predicted == labels).sum().item()\n",
    "            total_samples += labels.size(0)\n",
    "\n",
    "    avg_loss = total_loss / total_samples\n",
    "    accuracy = correct_predictions / total_samples\n",
    "\n",
    "    return {\n",
    "        'test_loss': avg_loss,\n",
    "        'test_accuracy': accuracy\n",
    "    }"
   ]
  },
  {
   "cell_type": "code",
   "execution_count": null,
   "metadata": {
    "id": "1B44B-2zxNiw"
   },
   "outputs": [],
   "source": [
    "import torch.nn as nn\n",
    "def get_num_parameters(model: nn.Module, count_nonzero_only=False) -> int:\n",
    "    num_counted_elements = 0\n",
    "    for param in model.parameters():\n",
    "        if count_nonzero_only:\n",
    "            # Convert to float to count non-zero elements for quantized tensors\n",
    "            num_counted_elements += (param.dequantize() != 0).sum().item()\n",
    "        else:\n",
    "            num_counted_elements += param.numel()\n",
    "    return num_counted_elements\n",
    "\n",
    "def get_model_size(model: nn.Module, data_width=32, count_nonzero_only=False) -> int:\n",
    "    return get_num_parameters(model, count_nonzero_only) * data_width"
   ]
  },
  {
   "cell_type": "markdown",
   "metadata": {
    "id": "0p3QDGKhm8ol"
   },
   "source": [
    "# Base VGG-11 pretrained finetuned for CIFAR100 model accuracy."
   ]
  },
  {
   "cell_type": "code",
   "execution_count": 26,
   "metadata": {
    "colab": {
     "base_uri": "https://localhost:8080/"
    },
    "id": "dKR_1gZjL9R3",
    "outputId": "237ffed3-ea0b-48a1-ba23-12f9c6d69dfd"
   },
   "outputs": [
    {
     "name": "stdout",
     "output_type": "stream",
     "text": [
      "Accuracy and loss of funetuned-pre-trained VGG-11 on CIFAR-100:  {'test_loss': 1.4987759712219237, 'test_accuracy': 0.7077}\n"
     ]
    }
   ],
   "source": [
    "base_stats = evaluate_model(model, test_loader, device)\n",
    "print(\"Accuracy and loss of funetuned-pre-trained VGG-11 on CIFAR-100: \", base_stats)"
   ]
  },
  {
   "cell_type": "markdown",
   "metadata": {
    "id": "TwXMVbDcnUF4"
   },
   "source": [
    "# INT-4 PTQ."
   ]
  },
  {
   "cell_type": "code",
   "execution_count": null,
   "metadata": {
    "colab": {
     "base_uri": "https://localhost:8080/"
    },
    "id": "-r1M2EJGoLRj",
    "outputId": "8093492d-79ba-428f-e1fb-d3dfd72df431"
   },
   "outputs": [
    {
     "name": "stdout",
     "output_type": "stream",
     "text": [
      "Number of params before PQT:  9802596\n",
      "Model size before PQT:  39210384\n",
      "Accuracy and loss of model before PQT:  {'test_loss': 1.4987759712219237, 'test_accuracy': 0.7077}\n",
      "Successfully quantized features.0\n",
      "Successfully quantized features.4\n",
      "Successfully quantized features.8\n",
      "Successfully quantized features.11\n",
      "Successfully quantized features.15\n",
      "Successfully quantized features.18\n",
      "Successfully quantized features.22\n",
      "Successfully quantized features.25\n",
      "Successfully quantized classifier.0\n",
      "Successfully quantized classifier.3\n",
      "Successfully quantized classifier.6\n",
      "\n",
      "Quantization summary:\n",
      "Quantized layers: 11\n",
      "Skipped layers: 0\n",
      "\n",
      "Post-quantization statistics:\n",
      "Number of params after PQT:  9802596\n",
      "Model size after PQT:  4901298\n",
      "Accuracy and loss of model after PQT:  {'test_loss': 1.5639029554367065, 'test_accuracy': 0.6905}\n"
     ]
    }
   ],
   "source": [
    "import torch\n",
    "import copy\n",
    "import torch.nn.functional as F\n",
    "\n",
    "def int4_weight_only():\n",
    "    return {\"bits\": 4, \"scale_bits\": 8}\n",
    "\n",
    "def quantize_(tensor, config):\n",
    "    num_bits = config[\"bits\"]\n",
    "\n",
    "    scale = tensor.abs().amax(dim=list(range(1, tensor.dim())), keepdim=True)\n",
    "    scale = torch.maximum(scale, torch.tensor(1e-8))\n",
    "\n",
    "    min_val = -(2**(num_bits-1))\n",
    "    max_val = 2**(num_bits-1) - 1\n",
    "\n",
    "    scaled_tensor = torch.clamp(torch.round(tensor / scale * max_val), min_val, max_val)\n",
    "\n",
    "    quantized = scaled_tensor * scale / max_val\n",
    "\n",
    "    return quantized\n",
    "\n",
    "def pad_to_multiple_of_16(tensor):\n",
    "    if len(tensor.shape) < 2:\n",
    "        return tensor\n",
    "\n",
    "    pad_size = (16 - tensor.size(0) % 16) % 16\n",
    "    if pad_size > 0:\n",
    "        if len(tensor.shape) == 2:\n",
    "            return F.pad(tensor, (0, 0, 0, pad_size))\n",
    "        elif len(tensor.shape) == 4:\n",
    "            return F.pad(tensor, (0, 0, 0, 0, 0, pad_size))\n",
    "    return tensor\n",
    "\n",
    "def quantize_model():\n",
    "    device = torch.device(\"cuda\" if torch.cuda.is_available() else \"cpu\")\n",
    "\n",
    "    int4_weight_only_model = copy.deepcopy(model).to(\"cpu\")\n",
    "\n",
    "    print(\"Number of params before PQT: \", sum(p.numel() for p in model.parameters()))\n",
    "    print(\"Model size before PQT: \", sum(p.numel() * 32 for p in model.parameters()) // 8)  # Size in bytes\n",
    "    print(\"Accuracy and loss of model before PQT: \", base_stats)\n",
    "\n",
    "    quantized_layers = 0\n",
    "    skipped_layers = 0\n",
    "\n",
    "    for name, module in int4_weight_only_model.named_modules():\n",
    "        if isinstance(module, (torch.nn.Conv2d, torch.nn.Linear)):\n",
    "            if hasattr(module, 'weight') and module.weight is not None:\n",
    "                try:\n",
    "                    original_weight = module.weight.data.clone()\n",
    "\n",
    "                    padded_weight = pad_to_multiple_of_16(original_weight)\n",
    "\n",
    "                    quantized_weight = quantize_(padded_weight, int4_weight_only())\n",
    "\n",
    "                    if torch.isnan(quantized_weight).any() or torch.isinf(quantized_weight).any():\n",
    "                        raise ValueError(f\"Invalid values in quantized weights for {name}\")\n",
    "\n",
    "                    with torch.no_grad():\n",
    "                        if padded_weight.shape == original_weight.shape:\n",
    "                            module.weight.data.copy_(quantized_weight)\n",
    "                        else:\n",
    "                            module.weight.data.copy_(quantized_weight[:original_weight.shape[0]])\n",
    "\n",
    "                    if not torch.allclose(module.weight.data[:original_weight.shape[0]],\n",
    "                                        quantized_weight[:original_weight.shape[0]], rtol=1e-3):\n",
    "                        raise ValueError(f\"Weight update failed for {name}\")\n",
    "\n",
    "                    quantized_layers += 1\n",
    "                    print(f\"Successfully quantized {name}\")\n",
    "\n",
    "                except Exception as e:\n",
    "                    print(f\"Error quantizing {name}: {str(e)}\")\n",
    "                    module.weight.data.copy_(original_weight)\n",
    "                    skipped_layers += 1\n",
    "\n",
    "    print(f\"\\nQuantization summary:\")\n",
    "    print(f\"Quantized layers: {quantized_layers}\")\n",
    "    print(f\"Skipped layers: {skipped_layers}\")\n",
    "\n",
    "    print(\"\\nPost-quantization statistics:\")\n",
    "    print(\"Number of params after PQT: \", sum(p.numel() for p in int4_weight_only_model.parameters()))\n",
    "    print(\"Model size after PQT: \", sum(p.numel() * 4 for p in int4_weight_only_model.parameters()) // 8)  # Size in bytes\n",
    "\n",
    "    return int4_weight_only_model.to(device)\n",
    "\n",
    "try:\n",
    "    int4_weight_only_model = quantize_model()\n",
    "    int4_stats_PQT = evaluate_model(int4_weight_only_model, test_loader, device)\n",
    "    print(\"Accuracy and loss of model after PQT: \", int4_stats_PQT)\n",
    "except Exception as e:\n",
    "    print(f\"\\nAn error occurred during quantization: {str(e)}\")"
   ]
  },
  {
   "cell_type": "markdown",
   "metadata": {
    "id": "3zGw7_YTnc3w"
   },
   "source": [
    "# INT-4 QAT."
   ]
  },
  {
   "cell_type": "code",
   "execution_count": null,
   "metadata": {
    "colab": {
     "base_uri": "https://localhost:8080/"
    },
    "id": "TWtwXGFigEEF",
    "outputId": "73ec240c-bedf-4d28-aa66-bcf611575f7c"
   },
   "outputs": [
    {
     "name": "stdout",
     "output_type": "stream",
     "text": [
      "Starting Quantization-Aware Training...\n",
      "\n",
      "Epoch 1/3\n",
      "Training Loss: 0.1432\n",
      "Training Accuracy: 96.51%\n",
      "Test Loss: 1.7414\n",
      "Test Accuracy: 66.94%\n",
      "New best model saved with accuracy: 66.94%\n",
      "------------------------------------------------------------\n",
      "\n",
      "Epoch 2/3\n",
      "Training Loss: 0.1078\n",
      "Training Accuracy: 97.31%\n",
      "Test Loss: 1.7241\n",
      "Test Accuracy: 68.25%\n",
      "New best model saved with accuracy: 68.25%\n",
      "------------------------------------------------------------\n",
      "\n",
      "Epoch 3/3\n",
      "Training Loss: 0.0619\n",
      "Training Accuracy: 98.47%\n",
      "Test Loss: 1.7109\n",
      "Test Accuracy: 69.27%\n",
      "New best model saved with accuracy: 69.27%\n",
      "------------------------------------------------------------\n",
      "\n",
      "Final QAT Model Statistics:\n",
      "Test Accuracy: 69.27%\n",
      "Test Loss: 1.7109\n"
     ]
    }
   ],
   "source": [
    "import torch\n",
    "import torch.optim as optim\n",
    "import torch.nn as nn\n",
    "import copy\n",
    "import torch.nn.functional as F\n",
    "\n",
    "class FakeQuantize(torch.autograd.Function):\n",
    "    @staticmethod\n",
    "    def forward(ctx, x, num_bits=4):\n",
    "        ctx.num_bits = num_bits\n",
    "        ctx.save_for_backward(x)\n",
    "\n",
    "        scale = x.abs().amax(dim=list(range(1, x.dim())), keepdim=True)\n",
    "        scale = torch.maximum(scale, torch.tensor(1e-8, device=x.device))\n",
    "\n",
    "        n = 2 ** (num_bits - 1)\n",
    "        min_val = -n\n",
    "        max_val = n - 1\n",
    "\n",
    "        x_scaled = torch.round(x / scale * max_val)\n",
    "        x_clipped = torch.clamp(x_scaled, min_val, max_val)\n",
    "        x_quantized = x_clipped * scale / max_val\n",
    "\n",
    "        return x_quantized\n",
    "\n",
    "    @staticmethod\n",
    "    def backward(ctx, grad_output):\n",
    "        x, = ctx.saved_tensors\n",
    "        n = 2 ** (ctx.num_bits - 1)\n",
    "        mask = (x >= -n) & (x <= n-1)\n",
    "        return grad_output * mask.float(), None\n",
    "\n",
    "class QuantizedLayer(nn.Module):\n",
    "    def __init__(self, module, num_bits=4):\n",
    "        super().__init__()\n",
    "        self.module = module\n",
    "        self.num_bits = num_bits\n",
    "        self.fake_quantize = FakeQuantize.apply\n",
    "\n",
    "    def forward(self, x):\n",
    "        if hasattr(self.module, 'weight') and self.module.weight is not None:\n",
    "            quantized_weight = self.fake_quantize(self.module.weight, self.num_bits)\n",
    "            original_weight = self.module.weight.data.clone()\n",
    "            self.module.weight.data = quantized_weight\n",
    "            out = self.module(x)\n",
    "            self.module.weight.data = original_weight\n",
    "            return out\n",
    "        return self.module(x)\n",
    "\n",
    "def apply_qat_to_model(model, num_bits=4):\n",
    "    for name, module in model.named_children():\n",
    "        if isinstance(module, (nn.Linear, nn.Conv2d)):\n",
    "            setattr(model, name, QuantizedLayer(module, num_bits))\n",
    "        else:\n",
    "            apply_qat_to_model(module, num_bits)\n",
    "    return model\n",
    "\n",
    "def train_with_qat():\n",
    "    learning_rate = 1e-5\n",
    "    num_epochs = 3\n",
    "\n",
    "    qat_model = copy.deepcopy(int4_weight_only_model).to(device)\n",
    "\n",
    "    qat_model = apply_qat_to_model(qat_model)\n",
    "\n",
    "    qat_model.train()\n",
    "\n",
    "    optimizer = optim.Adam(qat_model.parameters(), lr=learning_rate)\n",
    "\n",
    "    loss_func = nn.CrossEntropyLoss()\n",
    "\n",
    "    best_accuracy = 0.0\n",
    "    best_model = None\n",
    "\n",
    "    for epoch in range(num_epochs):\n",
    "        total_loss = 0\n",
    "        correct = 0\n",
    "        total = 0\n",
    "\n",
    "        for batch_idx, (inputs, targets) in enumerate(train_loader):\n",
    "            inputs, targets = inputs.to(device), targets.to(device)\n",
    "\n",
    "            optimizer.zero_grad()\n",
    "\n",
    "            outputs = qat_model(inputs)\n",
    "            loss = loss_func(outputs, targets)\n",
    "\n",
    "            loss.backward()\n",
    "\n",
    "            torch.nn.utils.clip_grad_norm_(qat_model.parameters(), max_norm=1.0)\n",
    "\n",
    "            optimizer.step()\n",
    "\n",
    "            total_loss += loss.item()\n",
    "            _, predicted = outputs.max(1)\n",
    "            total += targets.size(0)\n",
    "            correct += predicted.eq(targets).sum().item()\n",
    "\n",
    "        qat_model.eval()\n",
    "        test_stats = evaluate_model(qat_model, test_loader, device)\n",
    "        qat_model.train()\n",
    "\n",
    "        print(f\"\\nEpoch {epoch + 1}/{num_epochs}\")\n",
    "        print(f\"Training Loss: {total_loss / len(train_loader):.4f}\")\n",
    "        print(f\"Training Accuracy: {100 * correct / total:.2f}%\")\n",
    "        print(f\"Test Loss: {test_stats['test_loss']:.4f}\")\n",
    "        print(f\"Test Accuracy: {test_stats['test_accuracy']*100:.2f}%\")\n",
    "\n",
    "        if test_stats['test_accuracy'] > best_accuracy:\n",
    "            best_accuracy = test_stats['test_accuracy']\n",
    "            best_model = copy.deepcopy(qat_model)\n",
    "            print(f\"New best model saved with accuracy: {best_accuracy*100:.2f}%\")\n",
    "\n",
    "        print(\"-\" * 60)\n",
    "\n",
    "    return best_model\n",
    "\n",
    "try:\n",
    "    print(\"Starting Quantization-Aware Training...\")\n",
    "    best_qat_model = train_with_qat()\n",
    "\n",
    "    best_qat_model.eval()\n",
    "    final_stats = evaluate_model(best_qat_model, test_loader, device)\n",
    "    print(\"\\nFinal QAT Model Statistics:\")\n",
    "    print(f\"Test Accuracy: {final_stats['test_accuracy']*100:.2f}%\")\n",
    "    print(f\"Test Loss: {final_stats['test_loss']:.4f}\")\n",
    "\n",
    "except Exception as e:\n",
    "    print(f\"An error occurred during QAT: {str(e)}\")"
   ]
  },
  {
   "cell_type": "markdown",
   "metadata": {
    "id": "sO48fS2Knfdt"
   },
   "source": [
    "# INT-8 PTQ."
   ]
  },
  {
   "cell_type": "code",
   "execution_count": 36,
   "metadata": {
    "colab": {
     "base_uri": "https://localhost:8080/"
    },
    "id": "66fSdQy55R-h",
    "outputId": "6be4af2a-3cca-427f-d714-d2d2486a06d1"
   },
   "outputs": [
    {
     "name": "stdout",
     "output_type": "stream",
     "text": [
      "Number of params before PQT:  9802596\n",
      "Model size before PQT:  313683072\n",
      "Accuracy and loss of model before PQT:  {'test_loss': 1.4987759712219237, 'test_accuracy': 0.7077}\n",
      "Number of params after PQT:  9733648\n",
      "Model size After PQT:  77869184\n",
      "Accuracy and loss of model after PQT:  {'test_loss': 1.4986346250534057, 'test_accuracy': 0.7078}\n"
     ]
    }
   ],
   "source": [
    "int8_weight_only_model = copy.deepcopy(model)\n",
    "int8_weight_only_model = int8_weight_only_model.to(device)\n",
    "\n",
    "print(\"Number of params before PQT: \", get_num_parameters(model))\n",
    "print(\"Model size before PQT: \", get_model_size(model))\n",
    "print(\"Accuracy and loss of model before PQT: \", base_stats)\n",
    "\n",
    "quantize_(int8_weight_only_model, int8_weight_only())\n",
    "int8_stats_PQT = evaluate_model(int8_weight_only_model, test_loader, device)\n",
    "\n",
    "print(\"Number of params after PQT: \", get_num_parameters(int8_weight_only_model, count_nonzero_only=True))\n",
    "print(\"Model size After PQT: \", get_model_size(int8_weight_only_model, data_width=8, count_nonzero_only=True))\n",
    "print(\"Accuracy and loss of model after PQT: \", int8_stats_PQT)\n"
   ]
  },
  {
   "cell_type": "markdown",
   "metadata": {
    "id": "OY1nF0YHni0V"
   },
   "source": [
    "# INT-8 QAT."
   ]
  },
  {
   "cell_type": "code",
   "execution_count": null,
   "metadata": {
    "colab": {
     "base_uri": "https://localhost:8080/"
    },
    "id": "tGoxcAOkbAJk",
    "outputId": "dfd32eee-7469-40c3-fe9a-d5e8e447291d"
   },
   "outputs": [
    {
     "name": "stdout",
     "output_type": "stream",
     "text": [
      "Epoch 1/20\n",
      "Training Loss: 0.0518, Training Accuracy: 98.77%\n",
      "Test Loss: 1.637298387145996, Test Accuracy: 0.6945\n",
      "Epoch 2/20\n",
      "Training Loss: 0.0043, Training Accuracy: 99.91%\n",
      "Test Loss: 1.6239397455215454, Test Accuracy: 0.6983\n",
      "Epoch 3/20\n",
      "Training Loss: 0.0025, Training Accuracy: 99.95%\n",
      "Test Loss: 1.62205604763031, Test Accuracy: 0.6999\n",
      "Epoch 4/20\n",
      "Training Loss: 0.0023, Training Accuracy: 99.95%\n",
      "Test Loss: 1.621991370010376, Test Accuracy: 0.6999\n",
      "Epoch 5/20\n",
      "Training Loss: 0.0020, Training Accuracy: 99.96%\n",
      "Test Loss: 1.622403002357483, Test Accuracy: 0.6998\n",
      "Epoch 6/20\n",
      "Training Loss: 0.0017, Training Accuracy: 99.96%\n",
      "Test Loss: 1.6237872350692748, Test Accuracy: 0.7006\n",
      "Epoch 7/20\n",
      "Training Loss: 0.0017, Training Accuracy: 99.97%\n",
      "Test Loss: 1.624980158996582, Test Accuracy: 0.7011\n",
      "Epoch 8/20\n",
      "Training Loss: 0.0016, Training Accuracy: 99.97%\n",
      "Test Loss: 1.626616753768921, Test Accuracy: 0.7012\n",
      "Epoch 9/20\n",
      "Training Loss: 0.0016, Training Accuracy: 99.96%\n",
      "Test Loss: 1.6276917697906494, Test Accuracy: 0.7017\n",
      "Epoch 10/20\n",
      "Training Loss: 0.0015, Training Accuracy: 99.97%\n",
      "Test Loss: 1.628912664604187, Test Accuracy: 0.7019\n",
      "Epoch 11/20\n",
      "Training Loss: 0.0014, Training Accuracy: 99.96%\n",
      "Test Loss: 1.6303481397628785, Test Accuracy: 0.7021\n",
      "Epoch 12/20\n",
      "Training Loss: 0.0014, Training Accuracy: 99.97%\n",
      "Test Loss: 1.6318104749679565, Test Accuracy: 0.702\n",
      "Epoch 13/20\n",
      "Training Loss: 0.0014, Training Accuracy: 99.96%\n",
      "Test Loss: 1.6329981941223144, Test Accuracy: 0.702\n",
      "Epoch 14/20\n",
      "Training Loss: 0.0014, Training Accuracy: 99.96%\n",
      "Test Loss: 1.6343018470764161, Test Accuracy: 0.7022\n",
      "Epoch 15/20\n",
      "Training Loss: 0.0013, Training Accuracy: 99.97%\n",
      "Test Loss: 1.6354779117584228, Test Accuracy: 0.7018\n",
      "Epoch 16/20\n",
      "Training Loss: 0.0013, Training Accuracy: 99.97%\n",
      "Test Loss: 1.6365621601104736, Test Accuracy: 0.7018\n",
      "Epoch 17/20\n",
      "Training Loss: 0.0013, Training Accuracy: 99.97%\n",
      "Test Loss: 1.6375272613525391, Test Accuracy: 0.7022\n",
      "Epoch 18/20\n",
      "Training Loss: 0.0012, Training Accuracy: 99.97%\n",
      "Test Loss: 1.6389337129592896, Test Accuracy: 0.7019\n",
      "Epoch 19/20\n",
      "Training Loss: 0.0013, Training Accuracy: 99.96%\n",
      "Test Loss: 1.6400383903503417, Test Accuracy: 0.702\n",
      "Epoch 20/20\n",
      "Training Loss: 0.0012, Training Accuracy: 99.97%\n",
      "Test Loss: 1.6412369213104248, Test Accuracy: 0.7025\n",
      "Accuracy and loss of model after training:  {'test_loss': 1.6412369213104248, 'test_accuracy': 0.7025}\n"
     ]
    }
   ],
   "source": [
    "import torch\n",
    "import torch.optim as optim\n",
    "import torch.nn as nn\n",
    "import copy\n",
    "\n",
    "learning_rate = 1e-4\n",
    "\n",
    "int8_weight_only_model = copy.deepcopy(int8_weight_only_model)\n",
    "int8_weight_only_model.train()  # Set the model to training mode\n",
    "\n",
    "torch.quantization.prepare_qat(int8_weight_only_model, inplace=True)\n",
    "\n",
    "params_to_optimize = [param for param in int8_weight_only_model.parameters() if param.is_leaf and param.requires_grad]\n",
    "optimizer = optim.SGD(params_to_optimize, lr=learning_rate)\n",
    "\n",
    "loss_func = nn.CrossEntropyLoss()\n",
    "\n",
    "def apply_qat_to_model(model):\n",
    "    for name, module in model.named_modules():\n",
    "        if isinstance(module, (torch.nn.Linear, torch.nn.Conv2d)):\n",
    "            module.qat = True\n",
    "\n",
    "apply_qat_to_model(int8_weight_only_model)\n",
    "\n",
    "for epoch in range(20):\n",
    "    total_loss = 0\n",
    "    correct = 0\n",
    "    total = 0\n",
    "\n",
    "    for inputs, targets in train_loader:\n",
    "        inputs, targets = inputs.to(device), targets.to(device)\n",
    "\n",
    "        optimizer.zero_grad()\n",
    "\n",
    "        outputs = int8_weight_only_model(inputs)\n",
    "        loss = loss_func(outputs, targets)\n",
    "\n",
    "        loss.backward()\n",
    "        optimizer.step()\n",
    "\n",
    "        total_loss += loss.item()\n",
    "        _, predicted = outputs.max(1)\n",
    "        total += targets.size(0)\n",
    "        correct += predicted.eq(targets).sum().item()\n",
    "\n",
    "    stats = evaluate_model(int8_weight_only_model, test_loader, device)\n",
    "\n",
    "    print(f\"Epoch {epoch + 1}/{20}\")\n",
    "    print(f\"Training Loss: {total_loss / len(train_loader):.4f}, Training Accuracy: {100 * correct / total:.2f}%\")\n",
    "    print(f\"Test Loss: {stats['test_loss']}, Test Accuracy: {stats['test_accuracy']}\")\n",
    "\n",
    "int8_stats_PQT = evaluate_model(int8_weight_only_model, test_loader, device)\n",
    "print(\"Accuracy and loss of model after training: \", int8_stats_PQT)"
   ]
  },
  {
   "cell_type": "markdown",
   "metadata": {
    "id": "BjE36Jbjnk89"
   },
   "source": [
    "# FP-16 PTQ."
   ]
  },
  {
   "cell_type": "code",
   "execution_count": 31,
   "metadata": {
    "colab": {
     "base_uri": "https://localhost:8080/"
    },
    "id": "5gOyThCteUPe",
    "outputId": "4297a452-f35e-4810-de33-d93e5b21c8b0"
   },
   "outputs": [
    {
     "name": "stdout",
     "output_type": "stream",
     "text": [
      "Number of params before PQT:  9802596\n",
      "Model size before PQT:  313683072\n",
      "Accuracy and loss of model before PQT:  {'test_loss': 1.4987759712219237, 'test_accuracy': 0.7077}\n",
      "Number of params after PQT:  9796369\n",
      "Model size After PQT:  156741904\n",
      "Accuracy and loss of model after PQT:  {'test_loss': 1.4987402570724486, 'test_accuracy': 0.708}\n"
     ]
    }
   ],
   "source": [
    "fp16_weight_only_model = copy.deepcopy(model)\n",
    "fp16_weight_only_model = fp16_weight_only_model.to(device)\n",
    "\n",
    "print(\"Number of params before PQT: \", get_num_parameters(model))\n",
    "print(\"Model size before PQT: \", get_model_size(model))\n",
    "print(\"Accuracy and loss of model before PQT: \", base_stats)\n",
    "\n",
    "fp16_weight_only_model = fp16_weight_only_model.half()\n",
    "fp16_stats_PQT = evaluate_model_16(fp16_weight_only_model, test_loader, device)\n",
    "\n",
    "print(\"Number of params after PQT: \", get_num_parameters(fp16_weight_only_model, count_nonzero_only=True))\n",
    "print(\"Model size After PQT: \", get_model_size(fp16_weight_only_model, data_width=16, count_nonzero_only=True))\n",
    "print(\"Accuracy and loss of model after PQT: \", fp16_stats_PQT)"
   ]
  },
  {
   "cell_type": "markdown",
   "metadata": {
    "id": "AR-l-kHrnnVV"
   },
   "source": [
    "# FP-16 QAT."
   ]
  },
  {
   "cell_type": "code",
   "execution_count": null,
   "metadata": {
    "colab": {
     "base_uri": "https://localhost:8080/"
    },
    "id": "ExviI0Z-c7go",
    "outputId": "fc83aaa9-f9d0-443a-a7b2-62e64d3e6c77"
   },
   "outputs": [
    {
     "name": "stdout",
     "output_type": "stream",
     "text": [
      "Epoch 1/8\n",
      "Training Loss: 0.0454, Training Accuracy: 98.97%\n",
      "Test Loss: 1.6288597442626953, Test Accuracy: 0.6996\n",
      "Epoch 2/8\n",
      "Training Loss: 0.0219, Training Accuracy: 99.56%\n",
      "Test Loss: 1.6412861455917358, Test Accuracy: 0.6998\n",
      "Epoch 3/8\n",
      "Training Loss: 0.0165, Training Accuracy: 99.67%\n",
      "Test Loss: 1.6440054941177369, Test Accuracy: 0.7032\n",
      "Epoch 4/8\n",
      "Training Loss: 0.0138, Training Accuracy: 99.72%\n",
      "Test Loss: 1.6289078369140626, Test Accuracy: 0.7068\n",
      "Epoch 5/8\n",
      "Training Loss: 0.0118, Training Accuracy: 99.80%\n",
      "Test Loss: 1.668360697555542, Test Accuracy: 0.7045\n",
      "Epoch 6/8\n",
      "Training Loss: 0.0102, Training Accuracy: 99.80%\n",
      "Test Loss: 1.6523738733291626, Test Accuracy: 0.7091\n",
      "Epoch 7/8\n",
      "Training Loss: 0.0094, Training Accuracy: 99.82%\n",
      "Test Loss: 1.7055805423736572, Test Accuracy: 0.7059\n",
      "Epoch 8/8\n",
      "Training Loss: 0.0089, Training Accuracy: 99.82%\n",
      "Test Loss: 1.719998256111145, Test Accuracy: 0.705\n",
      "Number of params after training:  9802596\n",
      "Model size after training:  156841536\n",
      "Accuracy and loss of model after training:  {'test_loss': 1.719998256111145, 'test_accuracy': 0.705}\n"
     ]
    }
   ],
   "source": [
    "import torch\n",
    "import torch.optim as optim\n",
    "import torch.nn as nn\n",
    "import copy\n",
    "from torch.cuda.amp import GradScaler, autocast\n",
    "\n",
    "scaler = GradScaler()\n",
    "\n",
    "fp16_weight_only_model = copy.deepcopy(model).to(device)\n",
    "\n",
    "fp16_weight_only_model.train()\n",
    "learning_rate = 1e-5\n",
    "\n",
    "optimizer = optim.Adam(fp16_weight_only_model.parameters(), lr=learning_rate)\n",
    "\n",
    "loss_func = nn.CrossEntropyLoss()\n",
    "\n",
    "def apply_qat_to_model(model):\n",
    "    for name, module in model.named_modules():\n",
    "        if isinstance(module, (torch.nn.Linear, torch.nn.Conv2d)):\n",
    "            module.qat = True\n",
    "\n",
    "apply_qat_to_model(fp16_weight_only_model)\n",
    "for epoch in range(8):\n",
    "    fp16_weight_only_model.train()\n",
    "    total_loss = 0\n",
    "    correct = 0\n",
    "    total = 0\n",
    "\n",
    "    for inputs, targets in train_loader:\n",
    "        inputs, targets = inputs.to(device), targets.to(device)\n",
    "\n",
    "        optimizer.zero_grad()\n",
    "\n",
    "        with autocast():\n",
    "            outputs = fp16_weight_only_model(inputs.half())\n",
    "            loss = loss_func(outputs, targets)\n",
    "\n",
    "        scaler.scale(loss).backward()\n",
    "        scaler.step(optimizer)\n",
    "        scaler.update()\n",
    "\n",
    "        total_loss += loss.item()\n",
    "        _, predicted = outputs.max(1)\n",
    "        total += targets.size(0)\n",
    "        correct += predicted.eq(targets).sum().item()\n",
    "\n",
    "    stats = evaluate_model_16(fp16_weight_only_model, test_loader, device)\n",
    "\n",
    "    print(f\"Epoch {epoch + 1}/{8}\")\n",
    "    print(f\"Training Loss: {total_loss / len(train_loader):.4f}, Training Accuracy: {100 * correct / total:.2f}%\")\n",
    "    print(f\"Test Loss: {stats['test_loss']}, Test Accuracy: {stats['test_accuracy']}\")\n",
    "\n",
    "fp16_stats_PQT = evaluate_model_16(fp16_weight_only_model, test_loader, device)\n",
    "print(\"Number of params after training: \", get_num_parameters(fp16_weight_only_model, count_nonzero_only=True))\n",
    "print(\"Model size after training: \", get_model_size(fp16_weight_only_model, data_width=16, count_nonzero_only=True))\n",
    "print(\"Accuracy and loss of model after training: \", fp16_stats_PQT)"
   ]
  },
  {
   "cell_type": "markdown",
   "metadata": {
    "id": "xjb7B6BanpOt"
   },
   "source": [
    "# BF-16 PTQ."
   ]
  },
  {
   "cell_type": "code",
   "execution_count": 39,
   "metadata": {
    "colab": {
     "base_uri": "https://localhost:8080/"
    },
    "id": "66pWLMMAZ2te",
    "outputId": "f717e62f-c260-4fc0-a3bd-0e5f6774153e"
   },
   "outputs": [
    {
     "name": "stdout",
     "output_type": "stream",
     "text": [
      "Number of params before PQT:  9802596\n",
      "Model size before PQT:  313683072\n",
      "Accuracy and loss of model before PQT:  {'test_loss': 1.4987759712219237, 'test_accuracy': 0.7077}\n",
      "Number of params after PQT:  9802596\n",
      "Model size After PQT:  156841536\n",
      "Accuracy and loss of model after PQT:  {'test_loss': 1.498225, 'test_accuracy': 0.7073}\n"
     ]
    }
   ],
   "source": [
    "bf16_weight_only_model = copy.deepcopy(model)\n",
    "bf16_weight_only_model.to(torch.bfloat16)\n",
    "\n",
    "bf16_weight_only_model = bf16_weight_only_model.to(device)\n",
    "\n",
    "print(\"Number of params before PQT: \", get_num_parameters(model))\n",
    "print(\"Model size before PQT: \", get_model_size(model))\n",
    "print(\"Accuracy and loss of model before PQT: \", base_stats)\n",
    "\n",
    "bf16_weight_only_model = bf16_weight_only_model.to(torch.bfloat16).to(device)\n",
    "bf16_stats_PQT = evaluate_model_bf16(bf16_weight_only_model, test_loader, device)\n",
    "\n",
    "print(\"Number of params after PQT: \", get_num_parameters(bf16_weight_only_model, count_nonzero_only=True))\n",
    "print(\"Model size After PQT: \", get_model_size(bf16_weight_only_model, data_width=16, count_nonzero_only=True))\n",
    "print(\"Accuracy and loss of model after PQT: \", bf16_stats_PQT)"
   ]
  },
  {
   "cell_type": "markdown",
   "metadata": {
    "id": "fP3BjUAxnt8G"
   },
   "source": [
    "# BF-16 QAT."
   ]
  },
  {
   "cell_type": "code",
   "execution_count": null,
   "metadata": {
    "colab": {
     "base_uri": "https://localhost:8080/"
    },
    "id": "Nw8qWq5njngR",
    "outputId": "c0329567-0548-4183-9aa7-d6e65d05d0e5"
   },
   "outputs": [
    {
     "name": "stdout",
     "output_type": "stream",
     "text": [
      "Epoch 1/15\n",
      "Training Loss: 0.0562, Training Accuracy: 98.69%\n",
      "Test Loss: 1.654525, Test Accuracy: 0.6846\n",
      "Epoch 2/15\n",
      "Training Loss: 0.0437, Training Accuracy: 99.04%\n",
      "Test Loss: 1.5878125, Test Accuracy: 0.691\n",
      "Epoch 3/15\n",
      "Training Loss: 0.0332, Training Accuracy: 99.30%\n",
      "Test Loss: 1.5896125, Test Accuracy: 0.6959\n",
      "Epoch 4/15\n",
      "Training Loss: 0.0263, Training Accuracy: 99.45%\n",
      "Test Loss: 1.5765625, Test Accuracy: 0.6978\n",
      "Epoch 5/15\n",
      "Training Loss: 0.0209, Training Accuracy: 99.61%\n",
      "Test Loss: 1.5782625, Test Accuracy: 0.7026\n",
      "Epoch 6/15\n",
      "Training Loss: 0.0189, Training Accuracy: 99.69%\n",
      "Test Loss: 1.562775, Test Accuracy: 0.7009\n",
      "Epoch 7/15\n",
      "Training Loss: 0.0173, Training Accuracy: 99.69%\n",
      "Test Loss: 1.5874125, Test Accuracy: 0.6994\n",
      "Epoch 8/15\n",
      "Training Loss: 0.0180, Training Accuracy: 99.70%\n",
      "Test Loss: 1.5788875, Test Accuracy: 0.7029\n",
      "Epoch 9/15\n",
      "Training Loss: 0.0151, Training Accuracy: 99.74%\n",
      "Test Loss: 1.5886625, Test Accuracy: 0.7018\n",
      "Epoch 10/15\n",
      "Training Loss: 0.0149, Training Accuracy: 99.77%\n",
      "Test Loss: 1.5791875, Test Accuracy: 0.7063\n",
      "Epoch 11/15\n",
      "Training Loss: 0.0147, Training Accuracy: 99.76%\n",
      "Test Loss: 1.5593375, Test Accuracy: 0.7042\n",
      "Epoch 12/15\n",
      "Training Loss: 0.0135, Training Accuracy: 99.79%\n",
      "Test Loss: 1.58575, Test Accuracy: 0.7059\n",
      "Epoch 13/15\n",
      "Training Loss: 0.0119, Training Accuracy: 99.86%\n",
      "Test Loss: 1.5832375, Test Accuracy: 0.7055\n",
      "Epoch 14/15\n",
      "Training Loss: 0.0116, Training Accuracy: 99.85%\n",
      "Test Loss: 1.5596875, Test Accuracy: 0.7083\n",
      "Epoch 15/15\n",
      "Training Loss: 0.0112, Training Accuracy: 99.88%\n",
      "Test Loss: 1.5652, Test Accuracy: 0.7053\n",
      "Number of params after training:  9802596\n",
      "Model size after training:  156841536\n",
      "Accuracy and loss of model after training:  {'test_loss': 1.5652, 'test_accuracy': 0.7053}\n"
     ]
    }
   ],
   "source": [
    "import torch\n",
    "import torch.optim as optim\n",
    "import torch.nn as nn\n",
    "import copy\n",
    "\n",
    "learning_rate = 1e-4\n",
    "\n",
    "bf16_weight_only_model = copy.deepcopy(bf16_weight_only_model).to(device).bfloat16()\n",
    "\n",
    "bf16_weight_only_model.train()\n",
    "\n",
    "optimizer = optim.Adam(bf16_weight_only_model.parameters(), lr=learning_rate)\n",
    "\n",
    "loss_func = nn.CrossEntropyLoss()\n",
    "\n",
    "def apply_qat_to_model(model):\n",
    "    for name, module in model.named_modules():\n",
    "        if isinstance(module, (torch.nn.Linear, torch.nn.Conv2d)):\n",
    "            module.qat = True\n",
    "\n",
    "apply_qat_to_model(bf16_weight_only_model)\n",
    "\n",
    "for epoch in range(15):\n",
    "    bf16_weight_only_model.train()\n",
    "    total_loss = 0\n",
    "    correct = 0\n",
    "    total = 0\n",
    "\n",
    "    for inputs, targets in train_loader:\n",
    "        inputs, targets = inputs.to(device).bfloat16(), targets.to(device)\n",
    "\n",
    "        optimizer.zero_grad()\n",
    "\n",
    "        outputs = bf16_weight_only_model(inputs)\n",
    "        loss = loss_func(outputs, targets)\n",
    "\n",
    "        loss.backward()\n",
    "        optimizer.step()\n",
    "\n",
    "        total_loss += loss.item()\n",
    "        _, predicted = outputs.max(1)\n",
    "        total += targets.size(0)\n",
    "        correct += predicted.eq(targets).sum().item()\n",
    "\n",
    "    stats = evaluate_model_bf16(bf16_weight_only_model, test_loader, device)\n",
    "\n",
    "    print(f\"Epoch {epoch + 1}/{15}\")\n",
    "    print(f\"Training Loss: {total_loss / len(train_loader):.4f}, Training Accuracy: {100 * correct / total:.2f}%\")\n",
    "    print(f\"Test Loss: {stats['test_loss']}, Test Accuracy: {stats['test_accuracy']}\")\n",
    "\n",
    "fp16_stats_PQT = evaluate_model_bf16(bf16_weight_only_model, test_loader, device)\n",
    "print(\"Number of params after training: \", get_num_parameters(bf16_weight_only_model, count_nonzero_only=True))\n",
    "print(\"Model size after training: \", get_model_size(bf16_weight_only_model, data_width=16, count_nonzero_only=True))\n",
    "print(\"Accuracy and loss of model after training: \", fp16_stats_PQT)"
   ]
  },
  {
   "cell_type": "markdown",
   "metadata": {},
   "source": [
    "# PQT Accuracy vs Bit-width"
   ]
  },
  {
   "cell_type": "code",
   "execution_count": null,
   "metadata": {},
   "outputs": [
    {
     "data": {
      "image/png": "[encoded data removed]",
      "text/plain": [
       "<Figure size 800x600 with 1 Axes>"
      ]
     },
     "metadata": {},
     "output_type": "display_data"
    }
   ],
   "source": [
    "import matplotlib.pyplot as plt\n",
    "\n",
    "def plot_accuracy_vs_bitwidth(bitwidths, accuracies):    \n",
    "    plt.figure(figsize=(8, 6))\n",
    "    plt.plot(bitwidths, accuracies, marker='o', linestyle='-', color='b', markersize=6)\n",
    "    plt.title(\"Accuracy vs. Bitwidth for pQT\")\n",
    "    plt.xlabel(\"Bitwidth\")\n",
    "    plt.ylabel(\"Accuracy (%)\")\n",
    "    plt.grid(True)\n",
    "    \n",
    "    for bw, acc in zip(bitwidths, accuracies):\n",
    "        plt.text(bw, acc, f'{acc:.2f}%', ha='right', va='bottom')\n",
    "\n",
    "    plt.show()\n",
    "\n",
    "bitwidths = [\"int-4\", \"int-8\", \"fp-16\", \"bf-16\"]\n",
    "accuracies = [0.6905, 0.7078, 0.708, 0.7073]\n",
    "plot_accuracy_vs_bitwidth(bitwidths, accuracies)\n"
   ]
  },
  {
   "cell_type": "markdown",
   "metadata": {},
   "source": [
    "# QAT Accuracy vs Bit-width"
   ]
  },
  {
   "cell_type": "code",
   "execution_count": null,
   "metadata": {},
   "outputs": [
    {
     "data": {
      "image/png": "[encoded data removed]",
      "text/plain": [
       "<Figure size 800x600 with 1 Axes>"
      ]
     },
     "metadata": {},
     "output_type": "display_data"
    }
   ],
   "source": [
    "import matplotlib.pyplot as plt\n",
    "\n",
    "def plot_accuracy_vs_bitwidth(bitwidths, accuracies):    \n",
    "    plt.figure(figsize=(8, 6))\n",
    "    plt.plot(bitwidths, accuracies, marker='o', linestyle='-', color='b', markersize=6)\n",
    "    plt.title(\"Accuracy vs. Bitwidth for QAT\")\n",
    "    plt.xlabel(\"Bitwidth\")\n",
    "    plt.ylabel(\"Accuracy (%)\")\n",
    "    plt.grid(True)\n",
    "    \n",
    "    for bw, acc in zip(bitwidths, accuracies):\n",
    "        plt.text(bw, acc, f'{acc:.2f}%', ha='right', va='bottom')\n",
    "\n",
    "    plt.show()\n",
    "\n",
    "bitwidths = [\"int-4\", \"int-8\", \"fp-16\", \"bf-16\"]\n",
    "accuracies = [0.6927, 0.7022, 0.7091, 0.7083]\n",
    "plot_accuracy_vs_bitwidth(bitwidths, accuracies)\n"
   ]
  },
  {
   "cell_type": "markdown",
   "metadata": {},
   "source": [
    "# No. of Epochs for QAT to match PQT across different bit-widths."
   ]
  },
  {
   "cell_type": "code",
   "execution_count": null,
   "metadata": {},
   "outputs": [
    {
     "data": {
      "image/png": "[encoded data removed]",
      "text/plain": [
       "<Figure size 800x600 with 1 Axes>"
      ]
     },
     "metadata": {},
     "output_type": "display_data"
    }
   ],
   "source": [
    "import matplotlib.pyplot as plt\n",
    "\n",
    "def plot_accuracy_vs_bitwidth(bitwidths, accuracies):    \n",
    "    plt.figure(figsize=(8, 6))\n",
    "    plt.plot(bitwidths, accuracies, marker='o', linestyle='-', color='b', markersize=6)\n",
    "    plt.title(\"# No. of Epochs for QAT to match PQT accuracy vs different bit-widths.\")\n",
    "    plt.xlabel(\"Bitwidth\")\n",
    "    plt.ylabel(\"Accuracy (%)\")\n",
    "    plt.grid(True)\n",
    "    \n",
    "    for bw, acc in zip(bitwidths, accuracies):\n",
    "        plt.text(bw, acc, acc, ha='right', va='bottom')\n",
    "\n",
    "    plt.show()\n",
    "\n",
    "bitwidths = [\"int-4\", \"int-8\", \"fp-16\", \"bf-16\"]\n",
    "accuracies = [3, 20, 6, 14]\n",
    "plot_accuracy_vs_bitwidth(bitwidths, accuracies)\n"
   ]
  },
  {
   "cell_type": "markdown",
   "metadata": {},
   "source": [
    "## FP-16 vs BF-16"
   ]
  },
  {
   "cell_type": "markdown",
   "metadata": {},
   "source": [
    "### PQT memory stats for fp-16 and bf-16."
   ]
  },
  {
   "cell_type": "code",
   "execution_count": 17,
   "metadata": {},
   "outputs": [
    {
     "name": "stdout",
     "output_type": "stream",
     "text": [
      "Memory of fp-16 quantized PQT  model:  18.685091018676758\n",
      "Memory of bf-16 quantized PQT  model:  18.69696807861328\n",
      "Accuracy of fp-16 quantized PQT  model:  0.708\n",
      "Accuracy of bf-16 quantized PQT  model:  0.7073\n",
      "bf-16 PQT quantized model has a slightly larger memory footprint.\n",
      "fp-16 PQT quantized model has a slightly better accuracy.\n"
     ]
    }
   ],
   "source": [
    "print(\"Memory of fp-16 quantized PQT  model: \", 156741904 / (8 * 1024 ** 2))\n",
    "print(\"Memory of bf-16 quantized PQT  model: \", 156841536 / (8 * 1024 ** 2))\n",
    "print(\"Accuracy of fp-16 quantized PQT  model: \", 0.708)\n",
    "print(\"Accuracy of bf-16 quantized PQT  model: \", 0.7073)\n",
    "print(\"bf-16 PQT quantized model has a slightly larger memory footprint.\")\n",
    "print(\"fp-16 PQT quantized model has a slightly better accuracy.\")"
   ]
  },
  {
   "cell_type": "markdown",
   "metadata": {},
   "source": [
    "### QAT memory stats for fp-16 and bf-16 after 8 epochs."
   ]
  },
  {
   "cell_type": "code",
   "execution_count": 20,
   "metadata": {},
   "outputs": [
    {
     "name": "stdout",
     "output_type": "stream",
     "text": [
      "Memory of fp-16 quantized QAT  model:  18.69696807861328\n",
      "Memory of bf-16 quantized QAT  model:  18.69696807861328\n",
      "fp-16 quantized PQT model: Test Accuracy: 0.705\n",
      "bf-16 quantized PQT model: Test Accuracy: 0.7029\n",
      "bf-16 QAT and fp-16 QAT have the exact same memory footprint.\n",
      "fp-16 PQT quantized model has a slightly better accuracy.\n",
      "It took bf-16 8 times longer to run QAT for 8 epochs than fp-16. (3 mins vs 24 mins)\n"
     ]
    }
   ],
   "source": [
    "print(\"Memory of fp-16 quantized QAT  model: \", 156841536 / (8 * 1024 ** 2))\n",
    "print(\"Memory of bf-16 quantized QAT  model: \", 156841536 / (8 * 1024 ** 2))\n",
    "print(\"fp-16 quantized PQT model: Test Accuracy: 0.705\")\n",
    "print(\"bf-16 quantized PQT model: Test Accuracy: 0.7029\")\n",
    "print(\"bf-16 QAT and fp-16 QAT have the exact same memory footprint.\")\n",
    "print(\"fp-16 PQT quantized model has a slightly better accuracy.\")\n",
    "print(\"It took bf-16 8 times longer to run QAT for 8 epochs than fp-16. (3 mins vs 24 mins)\")"
   ]
  }
 ],
 "metadata": {
  "accelerator": "GPU",
  "colab": {
   "gpuType": "T4",
   "provenance": []
  },
  "kernelspec": {
   "display_name": "Python 3",
   "name": "python3"
  },
  "language_info": {
   "codemirror_mode": {
    "name": "ipython",
    "version": 3
   },
   "file_extension": ".py",
   "mimetype": "text/x-python",
   "name": "python",
   "nbconvert_exporter": "python",
   "pygments_lexer": "ipython3",
   "version": "3.10.11"
  }
 },
 "nbformat": 4,
 "nbformat_minor": 0
}
